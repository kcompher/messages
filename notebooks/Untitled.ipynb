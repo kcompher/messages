{
 "cells": [
  {
   "cell_type": "code",
   "execution_count": 6,
   "metadata": {},
   "outputs": [],
   "source": [
    "from pathlib import PurePath, Path\n",
    "import sys\n",
    "import tzlocal # pip install\n",
    "\n",
    "import pandas as pd\n",
    "import pandas_datareader.data as web\n",
    "pd.options.display.float_format = '{:,.4f}'.format\n",
    "import numpy as np\n",
    "import pandas_market_calendars as mcal # pip install\n",
    "\n",
    "import pyarrow as pa\n",
    "import pyarrow.parquet as pq\n",
    "\n",
    "import logzero\n",
    "from logzero import logger\n"
   ]
  },
  {
   "cell_type": "code",
   "execution_count": 10,
   "metadata": {},
   "outputs": [
    {
     "name": "stdout",
     "output_type": "stream",
     "text": [
      "\u001b[34msrc\u001b[m\u001b[m                 test_environment.py tox.ini\r\n"
     ]
    }
   ],
   "source": [
    "!ls /Users/kcom/code/messages/iex_intraday_equity_downloader_public"
   ]
  },
  {
   "cell_type": "code",
   "execution_count": null,
   "metadata": {},
   "outputs": [],
   "source": [
    "!ls /Users/kcom/code/messages/"
   ]
  },
  {
   "cell_type": "code",
   "execution_count": 13,
   "metadata": {},
   "outputs": [],
   "source": [
    "## get project dir\n",
    "pdir = PurePath(\"/Users/kcom/code/messages/iex_intraday_equity_downloader\")\n",
    "data_dir = pdir/'data'\n",
    "script_dir = pdir /'src'/'data'\n",
    "sys.path.append(script_dir.as_posix())"
   ]
  },
  {
   "cell_type": "code",
   "execution_count": null,
   "metadata": {},
   "outputs": [],
   "source": [
    "from iex_downloader_utils import split_timestamp, write_to_parquet"
   ]
  },
  {
   "cell_type": "code",
   "execution_count": null,
   "metadata": {},
   "outputs": [],
   "source": [
    "\n",
    "\n",
    "\n",
    "#=============================================================================\n",
    "# get current timestamp\n",
    "\n",
    "now = pd.to_datetime('today')\n",
    "#=============================================================================\n",
    "## setup logger\n",
    "\n",
    "logfile = PurePath(pdir/'logs'/'equity_downloader_logs'/f'iex_downloader_log_{now.date()}.log').as_posix()\n",
    "log_format = '%(color)s[%(levelname)1.1s %(asctime)s.%(msecs)03d %(module)s:%(lineno)d]%(end_color)s %(message)s'\n",
    "formatter = logzero.LogFormatter(fmt=log_format, datefmt='%Y-%m-%d %I:%M:%S')\n",
    "logzero.setup_default_logger(logfile=logfile, formatter=formatter)\n",
    "\n",
    "#=============================================================================\n",
    "# confirm market hours\n",
    "\n",
    "local_tz = tzlocal.get_localzone() # get local timezone via tzlocal package\n",
    "now_local_tz = now.tz_localize(local_tz) # localize current timestamp\n",
    "nyse = mcal.get_calendar('NYSE') # get NYSE calendar\n",
    "\n",
    "nyseToday = nyse.schedule(start_date=now.date(), end_date=now.date())\n",
    "mktOpen = nyseToday.market_open.iloc[0].tz_convert(local_tz)\n",
    "mktClose = nyseToday.market_close.iloc[0].tz_convert(local_tz)\n",
    "\n",
    "if mktOpen <= now_local_tz <= mktClose:  # only run during market hours\n",
    "    #==========================================================================\n",
    "    # import symbols\n",
    "\n",
    "    logger.info('importing symbols...')\n",
    "    symfp = Path(data_dir/'external'/'ETFList.Options.Nasdaq__M.csv')\n",
    "    symbols = (pd.read_csv(symfp).Symbol).tolist()\n",
    "\n",
    "    #==========================================================================\n",
    "    # request data\n",
    "\n",
    "    logger.info('requesting data from iex...')\n",
    "    data = (web.DataReader(symbols,'iex-tops')\n",
    "            .assign(lastSaleTime=lambda df:pd.to_datetime(df.lastSaleTime,unit='ms'))\n",
    "            .assign(lastUpdated=lambda df:pd.to_datetime(df.lastUpdated,unit='ms'))\n",
    "            .pipe(split_timestamp, timestamp=now)\n",
    "            .dropna())\n",
    "    # force float conversion for the following columns\n",
    "    # this is due to a problem reading in the data when schema changes\n",
    "    # for example when these columns are populated the data is float, when not,\n",
    "    # value is 0, then int64 dtypes causes schema change and read error\n",
    "    to_float = ['askPrice','bidPrice','lastSalePrice','marketPercent']\n",
    "    data.loc[:,to_float] = data.loc[:,to_float].astype(float)\n",
    "\n",
    "    if data.empty: logger.warn('data df is empty!')\n",
    "    #==========================================================================\n",
    "    # store data\n",
    "\n",
    "    logger.info('storing data to interim intraday_store')\n",
    "    outfp = PurePath(data_dir/'interim'/'intraday_store').as_posix()\n",
    "    write_to_parquet(data, outfp, logger=logger)\n",
    "else:\n",
    "    logger.warn('system outside of market hours, no data queried')"
   ]
  }
 ],
 "metadata": {
  "kernelspec": {
   "display_name": "Python [conda env:messages]",
   "language": "python",
   "name": "conda-env-messages-py"
  },
  "language_info": {
   "codemirror_mode": {
    "name": "ipython",
    "version": 3
   },
   "file_extension": ".py",
   "mimetype": "text/x-python",
   "name": "python",
   "nbconvert_exporter": "python",
   "pygments_lexer": "ipython3",
   "version": "3.7.0"
  }
 },
 "nbformat": 4,
 "nbformat_minor": 2
}
